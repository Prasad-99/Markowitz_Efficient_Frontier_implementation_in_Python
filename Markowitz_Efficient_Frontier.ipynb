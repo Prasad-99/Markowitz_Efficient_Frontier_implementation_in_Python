{
 "cells": [
  {
   "cell_type": "code",
   "execution_count": 33,
   "id": "477dbdcb",
   "metadata": {},
   "outputs": [],
   "source": [
    "# Import required libraries\n",
    "\n",
    "import numpy as np\n",
    "import pandas as pd\n",
    "import matplotlib.pyplot as plt"
   ]
  },
  {
   "cell_type": "code",
   "execution_count": 34,
   "id": "dea8381c",
   "metadata": {},
   "outputs": [],
   "source": [
    "# Import the data\n",
    "\n",
    "df = pd.read_csv('Industry_Portfolios_CSV.csv')"
   ]
  },
  {
   "cell_type": "code",
   "execution_count": 35,
   "id": "b365614c",
   "metadata": {},
   "outputs": [],
   "source": [
    "df['Date'] = pd.to_datetime(df['Date'],format='%Y%m')"
   ]
  },
  {
   "cell_type": "code",
   "execution_count": 36,
   "id": "7e0daf6e",
   "metadata": {},
   "outputs": [
    {
     "data": {
      "text/html": [
       "<div>\n",
       "<style scoped>\n",
       "    .dataframe tbody tr th:only-of-type {\n",
       "        vertical-align: middle;\n",
       "    }\n",
       "\n",
       "    .dataframe tbody tr th {\n",
       "        vertical-align: top;\n",
       "    }\n",
       "\n",
       "    .dataframe thead th {\n",
       "        text-align: right;\n",
       "    }\n",
       "</style>\n",
       "<table border=\"1\" class=\"dataframe\">\n",
       "  <thead>\n",
       "    <tr style=\"text-align: right;\">\n",
       "      <th></th>\n",
       "      <th>NoDur</th>\n",
       "      <th>Durbl</th>\n",
       "      <th>Manuf</th>\n",
       "      <th>Enrgy</th>\n",
       "      <th>HiTec</th>\n",
       "      <th>Telcm</th>\n",
       "      <th>Shops</th>\n",
       "      <th>Hlth</th>\n",
       "      <th>Utils</th>\n",
       "      <th>Other</th>\n",
       "    </tr>\n",
       "    <tr>\n",
       "      <th>Date</th>\n",
       "      <th></th>\n",
       "      <th></th>\n",
       "      <th></th>\n",
       "      <th></th>\n",
       "      <th></th>\n",
       "      <th></th>\n",
       "      <th></th>\n",
       "      <th></th>\n",
       "      <th></th>\n",
       "      <th></th>\n",
       "    </tr>\n",
       "  </thead>\n",
       "  <tbody>\n",
       "    <tr>\n",
       "      <th>2004-01-01</th>\n",
       "      <td>0.06</td>\n",
       "      <td>-1.07</td>\n",
       "      <td>-0.62</td>\n",
       "      <td>0.44</td>\n",
       "      <td>4.53</td>\n",
       "      <td>1.41</td>\n",
       "      <td>0.45</td>\n",
       "      <td>3.09</td>\n",
       "      <td>1.92</td>\n",
       "      <td>2.88</td>\n",
       "    </tr>\n",
       "    <tr>\n",
       "      <th>2004-02-01</th>\n",
       "      <td>4.25</td>\n",
       "      <td>-0.07</td>\n",
       "      <td>1.95</td>\n",
       "      <td>4.69</td>\n",
       "      <td>-2.92</td>\n",
       "      <td>-0.52</td>\n",
       "      <td>6.09</td>\n",
       "      <td>0.89</td>\n",
       "      <td>2.07</td>\n",
       "      <td>2.16</td>\n",
       "    </tr>\n",
       "    <tr>\n",
       "      <th>2004-03-01</th>\n",
       "      <td>-0.09</td>\n",
       "      <td>-1.15</td>\n",
       "      <td>-0.27</td>\n",
       "      <td>-0.13</td>\n",
       "      <td>-2.55</td>\n",
       "      <td>-2.07</td>\n",
       "      <td>0.29</td>\n",
       "      <td>-3.96</td>\n",
       "      <td>1.13</td>\n",
       "      <td>-0.63</td>\n",
       "    </tr>\n",
       "    <tr>\n",
       "      <th>2004-04-01</th>\n",
       "      <td>1.42</td>\n",
       "      <td>2.30</td>\n",
       "      <td>-0.17</td>\n",
       "      <td>2.52</td>\n",
       "      <td>-4.91</td>\n",
       "      <td>-0.48</td>\n",
       "      <td>-2.70</td>\n",
       "      <td>3.54</td>\n",
       "      <td>-3.55</td>\n",
       "      <td>-3.76</td>\n",
       "    </tr>\n",
       "    <tr>\n",
       "      <th>2004-05-01</th>\n",
       "      <td>-1.89</td>\n",
       "      <td>-1.64</td>\n",
       "      <td>1.61</td>\n",
       "      <td>0.39</td>\n",
       "      <td>4.85</td>\n",
       "      <td>-2.95</td>\n",
       "      <td>0.30</td>\n",
       "      <td>-0.42</td>\n",
       "      <td>1.28</td>\n",
       "      <td>1.86</td>\n",
       "    </tr>\n",
       "    <tr>\n",
       "      <th>...</th>\n",
       "      <td>...</td>\n",
       "      <td>...</td>\n",
       "      <td>...</td>\n",
       "      <td>...</td>\n",
       "      <td>...</td>\n",
       "      <td>...</td>\n",
       "      <td>...</td>\n",
       "      <td>...</td>\n",
       "      <td>...</td>\n",
       "      <td>...</td>\n",
       "    </tr>\n",
       "    <tr>\n",
       "      <th>2013-08-01</th>\n",
       "      <td>-4.00</td>\n",
       "      <td>-1.00</td>\n",
       "      <td>-1.95</td>\n",
       "      <td>-1.83</td>\n",
       "      <td>-0.12</td>\n",
       "      <td>-3.28</td>\n",
       "      <td>-4.21</td>\n",
       "      <td>-3.49</td>\n",
       "      <td>-4.43</td>\n",
       "      <td>-3.66</td>\n",
       "    </tr>\n",
       "    <tr>\n",
       "      <th>2013-09-01</th>\n",
       "      <td>1.94</td>\n",
       "      <td>6.46</td>\n",
       "      <td>5.20</td>\n",
       "      <td>2.03</td>\n",
       "      <td>3.77</td>\n",
       "      <td>4.33</td>\n",
       "      <td>4.46</td>\n",
       "      <td>4.19</td>\n",
       "      <td>1.05</td>\n",
       "      <td>3.83</td>\n",
       "    </tr>\n",
       "    <tr>\n",
       "      <th>2013-10-01</th>\n",
       "      <td>4.75</td>\n",
       "      <td>0.72</td>\n",
       "      <td>4.56</td>\n",
       "      <td>4.86</td>\n",
       "      <td>3.80</td>\n",
       "      <td>5.52</td>\n",
       "      <td>5.08</td>\n",
       "      <td>3.47</td>\n",
       "      <td>3.35</td>\n",
       "      <td>3.87</td>\n",
       "    </tr>\n",
       "    <tr>\n",
       "      <th>2013-11-01</th>\n",
       "      <td>1.29</td>\n",
       "      <td>1.81</td>\n",
       "      <td>2.95</td>\n",
       "      <td>0.85</td>\n",
       "      <td>3.65</td>\n",
       "      <td>0.27</td>\n",
       "      <td>3.67</td>\n",
       "      <td>4.54</td>\n",
       "      <td>-1.81</td>\n",
       "      <td>4.74</td>\n",
       "    </tr>\n",
       "    <tr>\n",
       "      <th>2013-12-01</th>\n",
       "      <td>2.65</td>\n",
       "      <td>1.18</td>\n",
       "      <td>3.13</td>\n",
       "      <td>2.95</td>\n",
       "      <td>4.04</td>\n",
       "      <td>3.96</td>\n",
       "      <td>0.20</td>\n",
       "      <td>0.71</td>\n",
       "      <td>1.79</td>\n",
       "      <td>3.11</td>\n",
       "    </tr>\n",
       "  </tbody>\n",
       "</table>\n",
       "<p>120 rows × 10 columns</p>\n",
       "</div>"
      ],
      "text/plain": [
       "            NoDur  Durbl  Manuf  Enrgy  HiTec  Telcm  Shops  Hlth  Utils  \\\n",
       "Date                                                                       \n",
       "2004-01-01   0.06  -1.07  -0.62   0.44   4.53   1.41   0.45  3.09   1.92   \n",
       "2004-02-01   4.25  -0.07   1.95   4.69  -2.92  -0.52   6.09  0.89   2.07   \n",
       "2004-03-01  -0.09  -1.15  -0.27  -0.13  -2.55  -2.07   0.29 -3.96   1.13   \n",
       "2004-04-01   1.42   2.30  -0.17   2.52  -4.91  -0.48  -2.70  3.54  -3.55   \n",
       "2004-05-01  -1.89  -1.64   1.61   0.39   4.85  -2.95   0.30 -0.42   1.28   \n",
       "...           ...    ...    ...    ...    ...    ...    ...   ...    ...   \n",
       "2013-08-01  -4.00  -1.00  -1.95  -1.83  -0.12  -3.28  -4.21 -3.49  -4.43   \n",
       "2013-09-01   1.94   6.46   5.20   2.03   3.77   4.33   4.46  4.19   1.05   \n",
       "2013-10-01   4.75   0.72   4.56   4.86   3.80   5.52   5.08  3.47   3.35   \n",
       "2013-11-01   1.29   1.81   2.95   0.85   3.65   0.27   3.67  4.54  -1.81   \n",
       "2013-12-01   2.65   1.18   3.13   2.95   4.04   3.96   0.20  0.71   1.79   \n",
       "\n",
       "            Other  \n",
       "Date               \n",
       "2004-01-01   2.88  \n",
       "2004-02-01   2.16  \n",
       "2004-03-01  -0.63  \n",
       "2004-04-01  -3.76  \n",
       "2004-05-01   1.86  \n",
       "...           ...  \n",
       "2013-08-01  -3.66  \n",
       "2013-09-01   3.83  \n",
       "2013-10-01   3.87  \n",
       "2013-11-01   4.74  \n",
       "2013-12-01   3.11  \n",
       "\n",
       "[120 rows x 10 columns]"
      ]
     },
     "execution_count": 36,
     "metadata": {},
     "output_type": "execute_result"
    }
   ],
   "source": [
    "df = df.set_index('Date')\n",
    "df"
   ]
  },
  {
   "cell_type": "markdown",
   "id": "72e24755",
   "metadata": {},
   "source": [
    "> Use these returns to estimate the vector of mean returns and the covariance matrix of returns for the ten industry portfolios:"
   ]
  },
  {
   "cell_type": "code",
   "execution_count": 37,
   "id": "f5a7e940",
   "metadata": {},
   "outputs": [
    {
     "data": {
      "text/plain": [
       "array([[0.90283333],\n",
       "       [0.73333333],\n",
       "       [1.01283333],\n",
       "       [1.23116667],\n",
       "       [0.76625   ],\n",
       "       [0.88141667],\n",
       "       [0.91633333],\n",
       "       [0.78383333],\n",
       "       [0.90716667],\n",
       "       [0.48908333]])"
      ]
     },
     "execution_count": 37,
     "metadata": {},
     "output_type": "execute_result"
    }
   ],
   "source": [
    "# Mean of the returns\n",
    "\n",
    "R = np.array(df.mean()).reshape(10,1)\n",
    "R"
   ]
  },
  {
   "cell_type": "code",
   "execution_count": 38,
   "id": "3f41ea87",
   "metadata": {},
   "outputs": [
    {
     "data": {
      "text/html": [
       "<div>\n",
       "<style scoped>\n",
       "    .dataframe tbody tr th:only-of-type {\n",
       "        vertical-align: middle;\n",
       "    }\n",
       "\n",
       "    .dataframe tbody tr th {\n",
       "        vertical-align: top;\n",
       "    }\n",
       "\n",
       "    .dataframe thead th {\n",
       "        text-align: right;\n",
       "    }\n",
       "</style>\n",
       "<table border=\"1\" class=\"dataframe\">\n",
       "  <thead>\n",
       "    <tr style=\"text-align: right;\">\n",
       "      <th></th>\n",
       "      <th>NoDur</th>\n",
       "      <th>Durbl</th>\n",
       "      <th>Manuf</th>\n",
       "      <th>Enrgy</th>\n",
       "      <th>HiTec</th>\n",
       "      <th>Telcm</th>\n",
       "      <th>Shops</th>\n",
       "      <th>Hlth</th>\n",
       "      <th>Utils</th>\n",
       "      <th>Other</th>\n",
       "    </tr>\n",
       "  </thead>\n",
       "  <tbody>\n",
       "    <tr>\n",
       "      <th>NoDur</th>\n",
       "      <td>11.193422</td>\n",
       "      <td>18.449666</td>\n",
       "      <td>14.104907</td>\n",
       "      <td>10.531341</td>\n",
       "      <td>12.922949</td>\n",
       "      <td>11.968078</td>\n",
       "      <td>10.170832</td>\n",
       "      <td>9.953112</td>\n",
       "      <td>7.866653</td>\n",
       "      <td>14.438409</td>\n",
       "    </tr>\n",
       "    <tr>\n",
       "      <th>Durbl</th>\n",
       "      <td>18.449666</td>\n",
       "      <td>69.920577</td>\n",
       "      <td>39.178097</td>\n",
       "      <td>27.019794</td>\n",
       "      <td>35.466652</td>\n",
       "      <td>27.490543</td>\n",
       "      <td>27.444731</td>\n",
       "      <td>16.824003</td>\n",
       "      <td>12.746136</td>\n",
       "      <td>39.361987</td>\n",
       "    </tr>\n",
       "    <tr>\n",
       "      <th>Manuf</th>\n",
       "      <td>14.104907</td>\n",
       "      <td>39.178097</td>\n",
       "      <td>28.198970</td>\n",
       "      <td>23.145380</td>\n",
       "      <td>24.618739</td>\n",
       "      <td>19.550150</td>\n",
       "      <td>17.622867</td>\n",
       "      <td>13.596447</td>\n",
       "      <td>11.440612</td>\n",
       "      <td>26.313423</td>\n",
       "    </tr>\n",
       "    <tr>\n",
       "      <th>Enrgy</th>\n",
       "      <td>10.531341</td>\n",
       "      <td>27.019794</td>\n",
       "      <td>23.145380</td>\n",
       "      <td>36.984933</td>\n",
       "      <td>19.267276</td>\n",
       "      <td>15.366817</td>\n",
       "      <td>11.297800</td>\n",
       "      <td>9.630327</td>\n",
       "      <td>14.027168</td>\n",
       "      <td>18.320469</td>\n",
       "    </tr>\n",
       "    <tr>\n",
       "      <th>HiTec</th>\n",
       "      <td>12.922949</td>\n",
       "      <td>35.466652</td>\n",
       "      <td>24.618739</td>\n",
       "      <td>19.267276</td>\n",
       "      <td>28.957220</td>\n",
       "      <td>18.708273</td>\n",
       "      <td>17.837115</td>\n",
       "      <td>13.254064</td>\n",
       "      <td>10.304187</td>\n",
       "      <td>23.855470</td>\n",
       "    </tr>\n",
       "    <tr>\n",
       "      <th>Telcm</th>\n",
       "      <td>11.968078</td>\n",
       "      <td>27.490543</td>\n",
       "      <td>19.550150</td>\n",
       "      <td>15.366817</td>\n",
       "      <td>18.708273</td>\n",
       "      <td>19.787227</td>\n",
       "      <td>14.169356</td>\n",
       "      <td>11.506599</td>\n",
       "      <td>10.991596</td>\n",
       "      <td>19.610836</td>\n",
       "    </tr>\n",
       "    <tr>\n",
       "      <th>Shops</th>\n",
       "      <td>10.170832</td>\n",
       "      <td>27.444731</td>\n",
       "      <td>17.622867</td>\n",
       "      <td>11.297800</td>\n",
       "      <td>17.837115</td>\n",
       "      <td>14.169356</td>\n",
       "      <td>16.759084</td>\n",
       "      <td>10.178849</td>\n",
       "      <td>6.694350</td>\n",
       "      <td>19.226524</td>\n",
       "    </tr>\n",
       "    <tr>\n",
       "      <th>Hlth</th>\n",
       "      <td>9.953112</td>\n",
       "      <td>16.824003</td>\n",
       "      <td>13.596447</td>\n",
       "      <td>9.630327</td>\n",
       "      <td>13.254064</td>\n",
       "      <td>11.506599</td>\n",
       "      <td>10.178849</td>\n",
       "      <td>14.342669</td>\n",
       "      <td>7.475036</td>\n",
       "      <td>14.864553</td>\n",
       "    </tr>\n",
       "    <tr>\n",
       "      <th>Utils</th>\n",
       "      <td>7.866653</td>\n",
       "      <td>12.746136</td>\n",
       "      <td>11.440612</td>\n",
       "      <td>14.027168</td>\n",
       "      <td>10.304187</td>\n",
       "      <td>10.991596</td>\n",
       "      <td>6.694350</td>\n",
       "      <td>7.475036</td>\n",
       "      <td>13.703052</td>\n",
       "      <td>9.992960</td>\n",
       "    </tr>\n",
       "    <tr>\n",
       "      <th>Other</th>\n",
       "      <td>14.438409</td>\n",
       "      <td>39.361987</td>\n",
       "      <td>26.313423</td>\n",
       "      <td>18.320469</td>\n",
       "      <td>23.855470</td>\n",
       "      <td>19.610836</td>\n",
       "      <td>19.226524</td>\n",
       "      <td>14.864553</td>\n",
       "      <td>9.992960</td>\n",
       "      <td>31.163771</td>\n",
       "    </tr>\n",
       "  </tbody>\n",
       "</table>\n",
       "</div>"
      ],
      "text/plain": [
       "           NoDur      Durbl      Manuf      Enrgy      HiTec      Telcm  \\\n",
       "NoDur  11.193422  18.449666  14.104907  10.531341  12.922949  11.968078   \n",
       "Durbl  18.449666  69.920577  39.178097  27.019794  35.466652  27.490543   \n",
       "Manuf  14.104907  39.178097  28.198970  23.145380  24.618739  19.550150   \n",
       "Enrgy  10.531341  27.019794  23.145380  36.984933  19.267276  15.366817   \n",
       "HiTec  12.922949  35.466652  24.618739  19.267276  28.957220  18.708273   \n",
       "Telcm  11.968078  27.490543  19.550150  15.366817  18.708273  19.787227   \n",
       "Shops  10.170832  27.444731  17.622867  11.297800  17.837115  14.169356   \n",
       "Hlth    9.953112  16.824003  13.596447   9.630327  13.254064  11.506599   \n",
       "Utils   7.866653  12.746136  11.440612  14.027168  10.304187  10.991596   \n",
       "Other  14.438409  39.361987  26.313423  18.320469  23.855470  19.610836   \n",
       "\n",
       "           Shops       Hlth      Utils      Other  \n",
       "NoDur  10.170832   9.953112   7.866653  14.438409  \n",
       "Durbl  27.444731  16.824003  12.746136  39.361987  \n",
       "Manuf  17.622867  13.596447  11.440612  26.313423  \n",
       "Enrgy  11.297800   9.630327  14.027168  18.320469  \n",
       "HiTec  17.837115  13.254064  10.304187  23.855470  \n",
       "Telcm  14.169356  11.506599  10.991596  19.610836  \n",
       "Shops  16.759084  10.178849   6.694350  19.226524  \n",
       "Hlth   10.178849  14.342669   7.475036  14.864553  \n",
       "Utils   6.694350   7.475036  13.703052   9.992960  \n",
       "Other  19.226524  14.864553   9.992960  31.163771  "
      ]
     },
     "execution_count": 38,
     "metadata": {},
     "output_type": "execute_result"
    }
   ],
   "source": [
    "# Covariance Matrix of the returns\n",
    "\n",
    "V = df.cov()\n",
    "V"
   ]
  },
  {
   "cell_type": "markdown",
   "id": "26215dee",
   "metadata": {},
   "source": [
    "> Create a table showing the mean return and standard deviation of return for the ten industry portfolios."
   ]
  },
  {
   "cell_type": "code",
   "execution_count": 39,
   "id": "7005ae26",
   "metadata": {},
   "outputs": [],
   "source": [
    "# Calculate standard deviation of the returns\n",
    "\n",
    "std = df.std()"
   ]
  },
  {
   "cell_type": "code",
   "execution_count": 40,
   "id": "e07df06f",
   "metadata": {},
   "outputs": [
    {
     "data": {
      "text/html": [
       "<div>\n",
       "<style scoped>\n",
       "    .dataframe tbody tr th:only-of-type {\n",
       "        vertical-align: middle;\n",
       "    }\n",
       "\n",
       "    .dataframe tbody tr th {\n",
       "        vertical-align: top;\n",
       "    }\n",
       "\n",
       "    .dataframe thead th {\n",
       "        text-align: right;\n",
       "    }\n",
       "</style>\n",
       "<table border=\"1\" class=\"dataframe\">\n",
       "  <thead>\n",
       "    <tr style=\"text-align: right;\">\n",
       "      <th></th>\n",
       "      <th>Mean Return</th>\n",
       "      <th>Standard Deviation</th>\n",
       "    </tr>\n",
       "  </thead>\n",
       "  <tbody>\n",
       "    <tr>\n",
       "      <th>NoDur</th>\n",
       "      <td>0.902833</td>\n",
       "      <td>3.345657</td>\n",
       "    </tr>\n",
       "    <tr>\n",
       "      <th>Durbl</th>\n",
       "      <td>0.733333</td>\n",
       "      <td>8.361852</td>\n",
       "    </tr>\n",
       "    <tr>\n",
       "      <th>Manuf</th>\n",
       "      <td>1.012833</td>\n",
       "      <td>5.310270</td>\n",
       "    </tr>\n",
       "    <tr>\n",
       "      <th>Enrgy</th>\n",
       "      <td>1.231167</td>\n",
       "      <td>6.081524</td>\n",
       "    </tr>\n",
       "    <tr>\n",
       "      <th>HiTec</th>\n",
       "      <td>0.766250</td>\n",
       "      <td>5.381191</td>\n",
       "    </tr>\n",
       "    <tr>\n",
       "      <th>Telcm</th>\n",
       "      <td>0.881417</td>\n",
       "      <td>4.448284</td>\n",
       "    </tr>\n",
       "    <tr>\n",
       "      <th>Shops</th>\n",
       "      <td>0.916333</td>\n",
       "      <td>4.093786</td>\n",
       "    </tr>\n",
       "    <tr>\n",
       "      <th>Hlth</th>\n",
       "      <td>0.783833</td>\n",
       "      <td>3.787172</td>\n",
       "    </tr>\n",
       "    <tr>\n",
       "      <th>Utils</th>\n",
       "      <td>0.907167</td>\n",
       "      <td>3.701763</td>\n",
       "    </tr>\n",
       "    <tr>\n",
       "      <th>Other</th>\n",
       "      <td>0.489083</td>\n",
       "      <td>5.582452</td>\n",
       "    </tr>\n",
       "  </tbody>\n",
       "</table>\n",
       "</div>"
      ],
      "text/plain": [
       "       Mean Return  Standard Deviation\n",
       "NoDur     0.902833            3.345657\n",
       "Durbl     0.733333            8.361852\n",
       "Manuf     1.012833            5.310270\n",
       "Enrgy     1.231167            6.081524\n",
       "HiTec     0.766250            5.381191\n",
       "Telcm     0.881417            4.448284\n",
       "Shops     0.916333            4.093786\n",
       "Hlth      0.783833            3.787172\n",
       "Utils     0.907167            3.701763\n",
       "Other     0.489083            5.582452"
      ]
     },
     "execution_count": 40,
     "metadata": {},
     "output_type": "execute_result"
    }
   ],
   "source": [
    "mean_std = pd.DataFrame({'Mean Return':R.T[0],\n",
    "                        'Standard Deviation':std})\n",
    "mean_std"
   ]
  },
  {
   "cell_type": "markdown",
   "id": "f3de3a96",
   "metadata": {},
   "source": [
    "## Plot the minimum-variance frontier (without the riskless asset) generated by the ten industry portfolios."
   ]
  },
  {
   "cell_type": "markdown",
   "id": "a7f04e21",
   "metadata": {},
   "source": [
    ">Graph must have expected (monthly) return on the vertical axis and standard deviation of (monthly) return on the horizontal axis."
   ]
  },
  {
   "cell_type": "markdown",
   "id": "b82e7286",
   "metadata": {},
   "source": [
    "> Portfolio weights are given by the equation w* = a + bRp, Where:\n",
    "\n",
    " $$ \n",
    " a = \\frac{\\zeta  V^{-1}e- \\alpha  V^{-1}R}{\\zeta  \\delta - \\alpha^{2}}       \n",
    " $$\n",
    " \n",
    " \n",
    " $$\n",
    " b = \\frac{\\delta V^{-1}R-\\alpha V^{-1}e}{\\zeta\\delta-\\alpha^{2}}\n",
    " $$"
   ]
  },
  {
   "cell_type": "markdown",
   "id": "a9850ccb",
   "metadata": {},
   "source": [
    ">Here α is scalar, while ζ and δ are strictly positive scalars:\n",
    "\n",
    "\n",
    "$$\n",
    "\\alpha = R`V^{-1}e\n",
    "$$\n",
    "\n",
    "\n",
    "$$\n",
    "\\zeta = R`V^{-1}R\n",
    "$$\n",
    "\n",
    "\n",
    "$$\n",
    "\\delta = e`V^{-1}e\n",
    "$$"
   ]
  },
  {
   "cell_type": "code",
   "execution_count": 41,
   "id": "a42a0fbd",
   "metadata": {},
   "outputs": [
    {
     "data": {
      "text/plain": [
       "0.13794323869931885"
      ]
     },
     "execution_count": 41,
     "metadata": {},
     "output_type": "execute_result"
    }
   ],
   "source": [
    "#lets calculate aplha, delta, zeta\n",
    "\n",
    "alpha = (R.T @ np.linalg.inv(V) @ np.ones((10,1)))[0,0]\n",
    "alpha"
   ]
  },
  {
   "cell_type": "code",
   "execution_count": 42,
   "id": "50787510",
   "metadata": {},
   "outputs": [
    {
     "data": {
      "text/plain": [
       "0.19640858464482264"
      ]
     },
     "execution_count": 42,
     "metadata": {},
     "output_type": "execute_result"
    }
   ],
   "source": [
    "zeta = (R.T @ np.linalg.inv(V) @ R)[0,0]\n",
    "zeta"
   ]
  },
  {
   "cell_type": "code",
   "execution_count": 43,
   "id": "08b3578d",
   "metadata": {},
   "outputs": [
    {
     "data": {
      "text/plain": [
       "0.13738759735671183"
      ]
     },
     "execution_count": 43,
     "metadata": {},
     "output_type": "execute_result"
    }
   ],
   "source": [
    "delta = np.ones(10).T @ np.linalg.inv(V) @ np.ones(10)\n",
    "delta"
   ]
  },
  {
   "cell_type": "markdown",
   "id": "33430f0b",
   "metadata": {},
   "source": [
    "> Variance of return for frontier portfolio:\n",
    "\n",
    "\n",
    "$$ \\sigma^{2} = \\frac{1}{\\delta} + \\frac{\\delta}{\\zeta\\delta - \\alpha^{2}}(Rp - Rmv)^{2} $$\n",
    "\n",
    "\n",
    "$$ Where: Rmv = \\frac{\\alpha}{\\delta} $$"
   ]
  },
  {
   "cell_type": "code",
   "execution_count": 44,
   "id": "b18f75ba",
   "metadata": {},
   "outputs": [
    {
     "data": {
      "text/plain": [
       "1.0040443340832605"
      ]
     },
     "execution_count": 44,
     "metadata": {},
     "output_type": "execute_result"
    }
   ],
   "source": [
    "Rmv = \\\n",
    "    (alpha/delta)\n",
    "Rmv"
   ]
  },
  {
   "cell_type": "markdown",
   "id": "2b22239a",
   "metadata": {},
   "source": [
    ">This graph must cover the range from 0% to 2% on the vertical axis, in increments of 0.1% (or less)."
   ]
  },
  {
   "cell_type": "code",
   "execution_count": 45,
   "id": "a9cb19b7",
   "metadata": {},
   "outputs": [
    {
     "data": {
      "text/plain": [
       "array([0. , 0.1, 0.2, 0.3, 0.4, 0.5, 0.6, 0.7, 0.8, 0.9, 1. , 1.1, 1.2,\n",
       "       1.3, 1.4, 1.5, 1.6, 1.7, 1.8, 1.9, 2. ])"
      ]
     },
     "execution_count": 45,
     "metadata": {},
     "output_type": "execute_result"
    }
   ],
   "source": [
    "# Define y-axis range\n",
    "\n",
    "Rp = np.linspace(0,2,21)\n",
    "Rp"
   ]
  },
  {
   "cell_type": "code",
   "execution_count": 46,
   "id": "016a8f93",
   "metadata": {},
   "outputs": [],
   "source": [
    "# Variance of return for frontier portfolio\n",
    "\n",
    "Var_withRisky = []\n",
    "\n",
    "for r in Rp:\n",
    "    Var_withRisky.append((1/delta) + (delta/(zeta*delta - alpha**2))*(r - Rmv)**2)\n"
   ]
  },
  {
   "cell_type": "code",
   "execution_count": 47,
   "id": "6d1d3378",
   "metadata": {},
   "outputs": [
    {
     "data": {
      "text/plain": [
       "array([4.96865933, 4.62520378, 4.29451081, 3.97976317, 3.68504889,\n",
       "       3.41555771, 3.17771336, 2.97910534, 2.82801233, 2.73232821,\n",
       "       2.69795476, 2.7272112 , 2.81811651, 2.96500574, 3.16008166,\n",
       "       3.39504812, 3.66223513, 3.9551181 , 4.26841081, 4.59794314,\n",
       "       4.94046659])"
      ]
     },
     "execution_count": 47,
     "metadata": {},
     "output_type": "execute_result"
    }
   ],
   "source": [
    "portfolio_sd = np.sqrt(Var_withRisky)\n",
    "portfolio_sd"
   ]
  },
  {
   "cell_type": "code",
   "execution_count": 48,
   "id": "e7ce4545",
   "metadata": {},
   "outputs": [
    {
     "data": {
      "application/pdf": "[encoded data removed]",
      "image/png": "[encoded data removed]",
      "text/plain": [
       "<Figure size 640x480 with 1 Axes>"
      ]
     },
     "metadata": {},
     "output_type": "display_data"
    }
   ],
   "source": [
    "plt.plot(portfolio_sd,Rp)\n",
    "\n",
    "plt.xlabel('Standard Deviation')\n",
    "plt.ylabel('Portfolio Return')\n",
    "\n",
    "plt.show()"
   ]
  },
  {
   "cell_type": "markdown",
   "id": "3ee5c955",
   "metadata": {},
   "source": [
    "> Briefly explain the economic significance and relevance of the minimum-variance frontier to an investor.\n",
    "\n",
    "\n",
    "> #### The minimum-variance frontier has crucial economic significance for investors. It guides them in identifying portfolios that minimize risk (variance) for a given expected return, which helps in risk management. By selecting portfolios along this frontier, investors can tailor their investments to optimize risk-return trade-offs and align with their specific financial objectives."
   ]
  },
  {
   "cell_type": "markdown",
   "id": "24b055cc",
   "metadata": {},
   "source": [
    "## Plot the efficient frontier (with the riskless asset) on the same graph as the minimum-variance frontier generated by the ten industry portfolios."
   ]
  },
  {
   "cell_type": "markdown",
   "id": "a4e97d82",
   "metadata": {},
   "source": [
    "> Variance of return for portfolio with riskfree asset is:\n",
    "\n",
    "\n",
    "$$ \\sigma^{2} = \\frac{(Rp - Rf)^{2}}{\\zeta-2 \\alpha Rf+\\delta Rf^{2}} $$"
   ]
  },
  {
   "cell_type": "markdown",
   "id": "9e6f2240",
   "metadata": {},
   "source": [
    "> Where the Capital Allocation Line is:\n",
    "\n",
    "\n",
    "$$ Rp = Rf \\pm (\\zeta - 2 \\alpha Rf + \\delta Rf^{2})^{0.5} \\sigma $$\n",
    "\n",
    "\n",
    "> Where the Slope(i.e Sharpe Ratio) is $$ (\\zeta - 2 \\alpha Rf + \\delta Rf^{2})^{0.5} $$"
   ]
  },
  {
   "cell_type": "markdown",
   "id": "47a0178f",
   "metadata": {},
   "source": [
    "> Now suppose that the (net) risk-free rate is 0.13% per month:"
   ]
  },
  {
   "cell_type": "code",
   "execution_count": 49,
   "id": "e2849059",
   "metadata": {},
   "outputs": [],
   "source": [
    "# Rp = np.linspace(0.13,2,21)"
   ]
  },
  {
   "cell_type": "code",
   "execution_count": 50,
   "id": "94086918",
   "metadata": {},
   "outputs": [],
   "source": [
    "# Rf = 0.13\n",
    "# Var_withRiskFree = []\n",
    "\n",
    "# for r in Rp:\n",
    "#     Var_withRiskFree.append((r - Rf)**2/(zeta - 2*alpha*Rf + delta*(Rf**2)))\n",
    "    \n",
    "# portfolio_sdWithRiskFree = np.sqrt(Var_withRiskFree)\n",
    "# portfolio_sdWithRiskFree"
   ]
  },
  {
   "cell_type": "code",
   "execution_count": 51,
   "id": "612c6e3f",
   "metadata": {},
   "outputs": [],
   "source": [
    "portfolio_sdWithRiskFree = np.linspace(0,5,21)"
   ]
  },
  {
   "cell_type": "code",
   "execution_count": 52,
   "id": "805c7b21",
   "metadata": {},
   "outputs": [],
   "source": [
    "Portfolio_Return = []\n",
    "Rf = 0.13\n",
    "for sigmap in portfolio_sdWithRiskFree:\n",
    "    Portfolio_Return.append(Rf + ((zeta - 2*alpha*Rf + delta*Rf**2)**0.5)*sigmap)"
   ]
  },
  {
   "cell_type": "code",
   "execution_count": 53,
   "id": "b4d64bfc",
   "metadata": {},
   "outputs": [
    {
     "data": {
      "application/pdf": "[encoded data removed]",
      "image/png": "[encoded data removed]",
      "text/plain": [
       "<Figure size 640x480 with 1 Axes>"
      ]
     },
     "metadata": {},
     "output_type": "display_data"
    }
   ],
   "source": [
    "plt.plot(portfolio_sd,Rp, label='Portfolio without Risk-Free Asset')\n",
    "plt.plot(portfolio_sdWithRiskFree,Portfolio_Return, label='Portfolio with Risk-Free Asset')\n",
    "\n",
    "plt.xlabel('Standard Deviation')\n",
    "plt.ylabel('Portfolio Return')\n",
    "plt.title('Minimum Variance Frontier')\n",
    "\n",
    "plt.xlim(left = 0)\n",
    "plt.ylim(bottom=0)\n",
    "\n",
    "plt.legend()\n",
    "plt.show()"
   ]
  },
  {
   "cell_type": "markdown",
   "id": "3d51834a",
   "metadata": {},
   "source": [
    "> Briefly explain the economic significance and relevance of the efficient frontier to an investor."
   ]
  },
  {
   "cell_type": "markdown",
   "id": "e0c058ad",
   "metadata": {},
   "source": [
    "#### The efficient frontier represents a set of portfolios that offer the highest expected return for a given level of risk or the lowest risk for a given level of expected return. This concept is crucial as it enables investors to make informed decisions about portfolio diversification. By selecting portfolios along the efficient frontier, investors can optimize their risk-return trade-offs and construct portfolios tailored to their risk tolerance and financial objectives, ultimately aiming for superior returns with controlled risk."
   ]
  },
  {
   "cell_type": "markdown",
   "id": "bd37476e",
   "metadata": {},
   "source": [
    "> The two frontiers will intersect at single point: the tangency portfolio:"
   ]
  },
  {
   "cell_type": "markdown",
   "id": "f862bb4c",
   "metadata": {},
   "source": [
    "> Calculate the Sharpe ratio for the tangency portfolio, and also the tangency portfolio weights for the ten industry portfolios."
   ]
  },
  {
   "cell_type": "code",
   "execution_count": 54,
   "id": "a533edea",
   "metadata": {},
   "outputs": [],
   "source": [
    "Sharpe_Ratio = (zeta - 2*alpha*Rf + delta*Rf**2)**0.5"
   ]
  },
  {
   "cell_type": "code",
   "execution_count": 55,
   "id": "043b4dba",
   "metadata": {},
   "outputs": [
    {
     "data": {
      "text/plain": [
       "0.4035655993495087"
      ]
     },
     "execution_count": 55,
     "metadata": {},
     "output_type": "execute_result"
    }
   ],
   "source": [
    "Sharpe_Ratio"
   ]
  },
  {
   "cell_type": "markdown",
   "id": "af015c57",
   "metadata": {},
   "source": [
    "> Return of the tanget portfolio is given by the following formula:\n",
    "\n",
    "\n",
    "$$ R_tg = Rmv - \\frac{\\zeta \\delta - \\alpha^{2}}{\\delta^{2} (Rf - Rmv)} $$\n",
    "\n",
    "\n",
    "$$ Where,    Rmv = \\frac{\\alpha}{\\delta} $$"
   ]
  },
  {
   "cell_type": "code",
   "execution_count": 65,
   "id": "a1f27961",
   "metadata": {},
   "outputs": [],
   "source": [
    "TangetR = Rmv - ((zeta*delta - alpha**2) / (delta**2 * (Rf - Rmv)))"
   ]
  },
  {
   "cell_type": "code",
   "execution_count": 66,
   "id": "e4ad1ff5",
   "metadata": {},
   "outputs": [
    {
     "data": {
      "text/plain": [
       "1.4862735358446915"
      ]
     },
     "execution_count": 66,
     "metadata": {},
     "output_type": "execute_result"
    }
   ],
   "source": [
    "TangetR"
   ]
  },
  {
   "cell_type": "markdown",
   "id": "2a3ad1bb",
   "metadata": {},
   "source": [
    "> Calculate the tangency portfolio weights for the ten industry portfolios. Tangency Portfolio will be a portfolio with all the Risky assets hence we can use the following equation to calculate weights.\n",
    "\n",
    "\n",
    "> w* = a + bRp, Where:\n",
    "\n",
    " $$ \n",
    " a = \\frac{\\zeta  V^{-1}e- \\alpha  V^{-1}R}{\\zeta  \\delta - \\alpha^{2}}       \n",
    " $$\n",
    " \n",
    " \n",
    " $$\n",
    " b = \\frac{\\delta V^{-1}R-\\alpha V^{-1}e}{\\zeta\\delta-\\alpha^{2}}\n",
    " $$"
   ]
  },
  {
   "cell_type": "code",
   "execution_count": 67,
   "id": "8a0c7099",
   "metadata": {},
   "outputs": [],
   "source": [
    "a = \\\n",
    "    ((zeta * np.linalg.inv(V) @ np.ones((10,1))) - (alpha * np.linalg.inv(V) @ R)) \\\n",
    "    / (zeta * delta - alpha**2)"
   ]
  },
  {
   "cell_type": "code",
   "execution_count": 68,
   "id": "df814123",
   "metadata": {},
   "outputs": [],
   "source": [
    "b = \\\n",
    "    ((delta * np.linalg.inv(V) @ R) - (alpha * np.linalg.inv(V) @ np.ones((10,1)))) \\\n",
    "    / (zeta * delta - alpha**2)"
   ]
  },
  {
   "cell_type": "code",
   "execution_count": 69,
   "id": "06afad78",
   "metadata": {},
   "outputs": [],
   "source": [
    "w = a + (b*TangetR)"
   ]
  },
  {
   "cell_type": "code",
   "execution_count": 70,
   "id": "2036ef03",
   "metadata": {},
   "outputs": [],
   "source": [
    "weightsDF = pd.DataFrame({'Industry': df.columns,\n",
    "                         'Weights':w.reshape(10,)},index=np.arange(1,11))"
   ]
  },
  {
   "cell_type": "code",
   "execution_count": 71,
   "id": "8be66e34",
   "metadata": {},
   "outputs": [
    {
     "data": {
      "text/html": [
       "<div>\n",
       "<style scoped>\n",
       "    .dataframe tbody tr th:only-of-type {\n",
       "        vertical-align: middle;\n",
       "    }\n",
       "\n",
       "    .dataframe tbody tr th {\n",
       "        vertical-align: top;\n",
       "    }\n",
       "\n",
       "    .dataframe thead th {\n",
       "        text-align: right;\n",
       "    }\n",
       "</style>\n",
       "<table border=\"1\" class=\"dataframe\">\n",
       "  <thead>\n",
       "    <tr style=\"text-align: right;\">\n",
       "      <th></th>\n",
       "      <th>Industry</th>\n",
       "      <th>Weights</th>\n",
       "    </tr>\n",
       "  </thead>\n",
       "  <tbody>\n",
       "    <tr>\n",
       "      <th>1</th>\n",
       "      <td>NoDur</td>\n",
       "      <td>0.567972</td>\n",
       "    </tr>\n",
       "    <tr>\n",
       "      <th>2</th>\n",
       "      <td>Durbl</td>\n",
       "      <td>-0.214073</td>\n",
       "    </tr>\n",
       "    <tr>\n",
       "      <th>3</th>\n",
       "      <td>Manuf</td>\n",
       "      <td>0.714105</td>\n",
       "    </tr>\n",
       "    <tr>\n",
       "      <th>4</th>\n",
       "      <td>Enrgy</td>\n",
       "      <td>0.104087</td>\n",
       "    </tr>\n",
       "    <tr>\n",
       "      <th>5</th>\n",
       "      <td>HiTec</td>\n",
       "      <td>-0.363438</td>\n",
       "    </tr>\n",
       "    <tr>\n",
       "      <th>6</th>\n",
       "      <td>Telcm</td>\n",
       "      <td>-0.095463</td>\n",
       "    </tr>\n",
       "    <tr>\n",
       "      <th>7</th>\n",
       "      <td>Shops</td>\n",
       "      <td>0.991647</td>\n",
       "    </tr>\n",
       "    <tr>\n",
       "      <th>8</th>\n",
       "      <td>Hlth</td>\n",
       "      <td>0.075570</td>\n",
       "    </tr>\n",
       "    <tr>\n",
       "      <th>9</th>\n",
       "      <td>Utils</td>\n",
       "      <td>0.132643</td>\n",
       "    </tr>\n",
       "    <tr>\n",
       "      <th>10</th>\n",
       "      <td>Other</td>\n",
       "      <td>-0.913051</td>\n",
       "    </tr>\n",
       "  </tbody>\n",
       "</table>\n",
       "</div>"
      ],
      "text/plain": [
       "   Industry   Weights\n",
       "1     NoDur  0.567972\n",
       "2     Durbl -0.214073\n",
       "3     Manuf  0.714105\n",
       "4     Enrgy  0.104087\n",
       "5     HiTec -0.363438\n",
       "6     Telcm -0.095463\n",
       "7     Shops  0.991647\n",
       "8      Hlth  0.075570\n",
       "9     Utils  0.132643\n",
       "10    Other -0.913051"
      ]
     },
     "execution_count": 71,
     "metadata": {},
     "output_type": "execute_result"
    }
   ],
   "source": [
    "weightsDF"
   ]
  },
  {
   "cell_type": "code",
   "execution_count": 72,
   "id": "d76a8053",
   "metadata": {},
   "outputs": [
    {
     "data": {
      "text/plain": [
       "1.0"
      ]
     },
     "execution_count": 72,
     "metadata": {},
     "output_type": "execute_result"
    }
   ],
   "source": [
    "# To cross check our calculation, the sum of all the weights should add up to 1\n",
    "\n",
    "round(weightsDF['Weights'].sum(),2)"
   ]
  },
  {
   "cell_type": "markdown",
   "id": "eec6c909",
   "metadata": {},
   "source": [
    "> Briefly explain the economic significance and relevance of the tangency portfolio to an investor."
   ]
  },
  {
   "cell_type": "markdown",
   "id": "913df2a7",
   "metadata": {},
   "source": [
    "#### The tangency portfolio is economically significant to investors as it represents the optimal balance between risk and return within a portfolio. It is the point where the capital market line touches the efficient frontier, signifying the highest possible return for a given level of risk. This portfolio provides investors with a clear strategy for maximizing their returns while aligning with their risk tolerance, making it a crucial reference point for investment decisions."
   ]
  }
 ],
 "metadata": {
  "kernelspec": {
   "display_name": "Python 3 (ipykernel)",
   "language": "python",
   "name": "python3"
  },
  "language_info": {
   "codemirror_mode": {
    "name": "ipython",
    "version": 3
   },
   "file_extension": ".py",
   "mimetype": "text/x-python",
   "name": "python",
   "nbconvert_exporter": "python",
   "pygments_lexer": "ipython3",
   "version": "3.11.4"
  }
 },
 "nbformat": 4,
 "nbformat_minor": 5
}
